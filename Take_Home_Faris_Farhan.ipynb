{
 "cells": [
  {
   "cell_type": "code",
   "execution_count": 1,
   "metadata": {},
   "outputs": [],
   "source": [
    "# Take Home Assignment\n",
    "# Submission by Faris Farhan bin Azlan 010816101285"
   ]
  },
  {
   "cell_type": "code",
   "execution_count": 2,
   "metadata": {},
   "outputs": [],
   "source": [
    "# You are tasked to code the vending machine logic out using Python Programming Language. \n",
    "# In your code, you can have a few drinks as your items with any price (no coin). \n",
    "# The customer should be able to insert any notes to buy his preferred drinks. \n",
    "# The outcome is to release the least amount of notes back to the customer. "
   ]
  },
  {
   "cell_type": "markdown",
   "metadata": {},
   "source": [
    "# Final Answer"
   ]
  },
  {
   "cell_type": "code",
   "execution_count": 17,
   "metadata": {},
   "outputs": [
    {
     "data": {
      "text/html": [
       "<div>\n",
       "<style scoped>\n",
       "    .dataframe tbody tr th:only-of-type {\n",
       "        vertical-align: middle;\n",
       "    }\n",
       "\n",
       "    .dataframe tbody tr th {\n",
       "        vertical-align: top;\n",
       "    }\n",
       "\n",
       "    .dataframe thead th {\n",
       "        text-align: right;\n",
       "    }\n",
       "</style>\n",
       "<table border=\"1\" class=\"dataframe\">\n",
       "  <thead>\n",
       "    <tr style=\"text-align: right;\">\n",
       "      <th></th>\n",
       "      <th>User</th>\n",
       "      <th>Drink</th>\n",
       "      <th>Input Cash</th>\n",
       "      <th>Price</th>\n",
       "      <th>Balance</th>\n",
       "      <th>Change</th>\n",
       "      <th>Error</th>\n",
       "    </tr>\n",
       "  </thead>\n",
       "  <tbody>\n",
       "    <tr>\n",
       "      <th>0</th>\n",
       "      <td>Faris</td>\n",
       "      <td>Fanta</td>\n",
       "      <td>50</td>\n",
       "      <td>5</td>\n",
       "      <td>45</td>\n",
       "      <td>[20, 20, 5]</td>\n",
       "      <td>None</td>\n",
       "    </tr>\n",
       "    <tr>\n",
       "      <th>1</th>\n",
       "      <td>Azlan</td>\n",
       "      <td>Zus</td>\n",
       "      <td>100</td>\n",
       "      <td>17</td>\n",
       "      <td>83</td>\n",
       "      <td>[50, 20, 10, 1, 1, 1]</td>\n",
       "      <td>None</td>\n",
       "    </tr>\n",
       "    <tr>\n",
       "      <th>2</th>\n",
       "      <td>Hanis</td>\n",
       "      <td>Evian</td>\n",
       "      <td>40</td>\n",
       "      <td>32</td>\n",
       "      <td>8</td>\n",
       "      <td>[5, 1, 1, 1]</td>\n",
       "      <td>None</td>\n",
       "    </tr>\n",
       "    <tr>\n",
       "      <th>3</th>\n",
       "      <td>Fatin</td>\n",
       "      <td>Milo</td>\n",
       "      <td>70</td>\n",
       "      <td>0</td>\n",
       "      <td>0</td>\n",
       "      <td>[]</td>\n",
       "      <td>Drink not available!</td>\n",
       "    </tr>\n",
       "    <tr>\n",
       "      <th>4</th>\n",
       "      <td>Lisa</td>\n",
       "      <td>Starbucks</td>\n",
       "      <td>20</td>\n",
       "      <td>50</td>\n",
       "      <td>0</td>\n",
       "      <td>[]</td>\n",
       "      <td>You have insufficient funds!</td>\n",
       "    </tr>\n",
       "  </tbody>\n",
       "</table>\n",
       "</div>"
      ],
      "text/plain": [
       "    User      Drink  Input Cash  Price  Balance                 Change  \\\n",
       "0  Faris      Fanta          50      5       45            [20, 20, 5]   \n",
       "1  Azlan        Zus         100     17       83  [50, 20, 10, 1, 1, 1]   \n",
       "2  Hanis      Evian          40     32        8           [5, 1, 1, 1]   \n",
       "3  Fatin       Milo          70      0        0                     []   \n",
       "4   Lisa  Starbucks          20     50        0                     []   \n",
       "\n",
       "                          Error  \n",
       "0                          None  \n",
       "1                          None  \n",
       "2                          None  \n",
       "3          Drink not available!  \n",
       "4  You have insufficient funds!  "
      ]
     },
     "execution_count": 17,
     "metadata": {},
     "output_type": "execute_result"
    }
   ],
   "source": [
    "import pandas as pd\n",
    "\n",
    "vending_machine = {\"Fanta\": 5, \"Zus\": 17, \"Evian\": 32, \"Starbucks\": 50}\n",
    "notes = [100, 50, 20, 10, 5, 1]\n",
    "\n",
    "def calc_change(price, amt_received):\n",
    "    list_of_change = []\n",
    "    balance = amt_received - price\n",
    "    \n",
    "    if balance < 0: \n",
    "        print(\"Insufficient Amount!\")\n",
    "        return 0, 0\n",
    "    \n",
    "    initial_balance = balance\n",
    "    for note in notes:\n",
    "        while balance >= note:\n",
    "            balance = balance- note\n",
    "            list_of_change.append(note)\n",
    "    return initial_balance, list_of_change\n",
    "\n",
    "def cust_Order(user, drink, notes_in_wallet):\n",
    "    total_cash = sum(notes_in_wallet)\n",
    "    # print(f\"{user}'s cash: RM\", total_cash)\n",
    "    \n",
    "    if drink in vending_machine:\n",
    "        price = vending_machine[drink]\n",
    "        # print(\"Drink: \", drink, \"( RM\", price, \")\")\n",
    "        \n",
    "        if total_cash < price:\n",
    "            # print(\"You don't have enough money :(\")\n",
    "            return user, drink, total_cash, price, 0, [] , \"You have insufficient funds!\"\n",
    "        else:\n",
    "            initial_balance, list_of_change = calc_change(price, total_cash)\n",
    "            # print(\"Total Balance = RM\", initial_balance)\n",
    "            # print(\"List of Change = \", list_of_change)\n",
    "            return user, drink, total_cash, price, initial_balance, list_of_change\n",
    "    else:\n",
    "        # print(\"Drink is not in vending machine!\")\n",
    "        return user, drink, total_cash, 0, 0, [], \"Drink not available!\"\n",
    "\n",
    "customers = [\n",
    "(\"Faris\", \"Fanta\", [50]),\n",
    "    (\"Azlan\", \"Zus\", [50,50]),\n",
    "    (\"Hanis\", \"Evian\", [20,20]),\n",
    "    (\"Fatin\", \"Milo\", [50,20]),\n",
    "    (\"Lisa\", \"Starbucks\", [5,5,10])\n",
    "]\n",
    "\n",
    "records = []\n",
    "for user, drink, wallet in customers:\n",
    "    record = cust_Order(user, drink, wallet)\n",
    "    records.append(record)\n",
    "\n",
    "\n",
    "cols = [\"User\", \"Drink\", \"Input Cash\", \"Price\", \"Balance\", \"Change\", \"Error\"]\n",
    "vending_machine_records = pd.DataFrame(records, columns=cols)\n",
    "\n",
    "vending_machine_records\n"
   ]
  },
  {
   "cell_type": "markdown",
   "metadata": {},
   "source": [
    "# Drafts are documented below:"
   ]
  },
  {
   "cell_type": "markdown",
   "metadata": {},
   "source": [
    "### Requirement 1 - Data Dictionary of Drinks and Prices"
   ]
  },
  {
   "cell_type": "code",
   "execution_count": 4,
   "metadata": {},
   "outputs": [
    {
     "name": "stdout",
     "output_type": "stream",
     "text": [
      "{'Fanta': 5, 'Zus': 17, 'Starbucks': 30}\n",
      "dict_keys(['Fanta', 'Zus', 'Starbucks'])\n"
     ]
    }
   ],
   "source": [
    "vending_machine = {\"Fanta\": 5, \"Zus\": 17, \"Starbucks\": 30}\n",
    "print(vending_machine)\n",
    "print(vending_machine.keys())"
   ]
  },
  {
   "cell_type": "markdown",
   "metadata": {},
   "source": [
    "### Requirement 2 - Change Calculator"
   ]
  },
  {
   "cell_type": "code",
   "execution_count": 5,
   "metadata": {},
   "outputs": [
    {
     "name": "stdout",
     "output_type": "stream",
     "text": [
      "20\n",
      "Note:20\n"
     ]
    }
   ],
   "source": [
    "# Change Calculator v1\n",
    "# Needs improvisation (a) Loop mechanism (b) Error handling (c) Replace print statements by appending delta to a list\n",
    "def calc_change(price, amt_received):\n",
    "    balance = amt_received-price\n",
    "    print(balance)\n",
    "    if balance % 100 == 0:\n",
    "        print(\"Note:100\")\n",
    "    elif balance % 50 == 0:\n",
    "        print(\"Note:50\")\n",
    "    elif balance % 20 == 0:\n",
    "        print(\"Note:20\")\n",
    "    elif balance % 10 == 0:\n",
    "        print(\"Note:10\")\n",
    "    elif balance % 5 == 0:\n",
    "        print(\"Note:5\")\n",
    "    elif balance % 1 == 0:\n",
    "        print(\"Note:1\")\n",
    "        \n",
    "calc_change(80,100)"
   ]
  },
  {
   "cell_type": "code",
   "execution_count": 6,
   "metadata": {},
   "outputs": [
    {
     "name": "stdout",
     "output_type": "stream",
     "text": [
      "balance: 25\n",
      "balance: 25\n",
      "balance: 25\n",
      "balance: 25\n",
      "Deduct this amount: 5\n",
      "balance: 20\n",
      "Deduct this amount: 1\n",
      "balance: 19\n"
     ]
    }
   ],
   "source": [
    "# Change Calculator v2 - The loop is based on the sequence of 100 -> 1.\n",
    "# Improvization: Just deduct by the max amount possible then add into a list.\n",
    "notes = [100,50,20,10,5,1]\n",
    "def calc_change(price, amt_received):\n",
    "    balance = amt_received-price\n",
    "    for note in notes:\n",
    "        if balance != 0:\n",
    "            if balance % note == 0:\n",
    "                print(\"Deduct this amount:\", note)\n",
    "                balance = balance-note\n",
    "            print(\"balance:\", balance)\n",
    "\n",
    "calc_change(75,100)"
   ]
  },
  {
   "cell_type": "code",
   "execution_count": 7,
   "metadata": {},
   "outputs": [
    {
     "name": "stdout",
     "output_type": "stream",
     "text": [
      "[50, 20, 5]\n",
      "Total Balance =  75\n",
      "List of Change =  [50, 20, 5]\n"
     ]
    }
   ],
   "source": [
    "# Change Calculator v3 - outputs (a) total balance and (b) list of notes for change\n",
    "# Improvise: need error handling for insufficient amount\n",
    "notes = [100,50,20,10,5,1]\n",
    "\n",
    "def calc_change(price, amt_received):\n",
    "    list_of_change = []\n",
    "    balance = amt_received-price\n",
    "    initial_balance = balance\n",
    "    for note in notes:\n",
    "        # balance = amt_received-price\n",
    "        while balance >= note:\n",
    "            balance = balance - note\n",
    "            # print(balance)\n",
    "            list_of_change.append(note)\n",
    "    return initial_balance, list_of_change\n",
    "        \n",
    "initial_balance, list_of_change = calc_change(25,100)\n",
    "\n",
    "print(list_of_change)\n",
    "print(\"Total Balance = \", initial_balance)\n",
    "print(\"List of Change = \", list_of_change)\n"
   ]
  },
  {
   "cell_type": "code",
   "execution_count": 8,
   "metadata": {},
   "outputs": [
    {
     "name": "stdout",
     "output_type": "stream",
     "text": [
      "Insufficient Amount!\n",
      "Total Balance =  0\n",
      "List of Change =  0\n"
     ]
    }
   ],
   "source": [
    "# Change Calculator v4\n",
    "notes = [100,50,20,10,5,1]\n",
    "\n",
    "def calc_change(price, amt_received):\n",
    "    list_of_change = []\n",
    "    balance = amt_received-price\n",
    "    \n",
    "    if balance < 0: \n",
    "        print(\"Insufficient Amount!\")\n",
    "        return 0,0\n",
    "    \n",
    "    initial_balance = balance\n",
    "    for note in notes:\n",
    "        # balance = amt_received-price\n",
    "        while balance >= note:\n",
    "            balance = balance - note\n",
    "            # print(balance)\n",
    "            list_of_change.append(note)\n",
    "    return initial_balance, list_of_change\n",
    "        \n",
    "initial_balance, list_of_change = calc_change(25,22)\n",
    "\n",
    "\n",
    "print(\"Total Balance = \", initial_balance)\n",
    "print(\"List of Change = \", list_of_change)"
   ]
  },
  {
   "cell_type": "markdown",
   "metadata": {},
   "source": [
    "### Requirement 3 - Customer Order Function"
   ]
  },
  {
   "cell_type": "code",
   "execution_count": 9,
   "metadata": {},
   "outputs": [
    {
     "name": "stdout",
     "output_type": "stream",
     "text": [
      "Drink:  Fanta ( RM 5 )\n"
     ]
    }
   ],
   "source": [
    "# Customer order function v1\n",
    "# Improvise: specifying one's cash notes in the wallet would be fun lol.\n",
    "def cust_Order(drink, cash_in_wallet):\n",
    "    \n",
    "    if drink in vending_machine:\n",
    "        price = vending_machine.get(drink)\n",
    "        print(\"Drink: \", drink, \"( RM\", price, \")\")\n",
    "    else:\n",
    "        print(\"Drink is not in vending machine!\")\n",
    "    \n",
    "cust_Order(\"Fanta\", 50)\n"
   ]
  },
  {
   "cell_type": "code",
   "execution_count": 10,
   "metadata": {},
   "outputs": [
    {
     "name": "stdout",
     "output_type": "stream",
     "text": [
      "Customer's cash: RM 75\n",
      "Drink:  Fanta ( RM 5 )\n"
     ]
    }
   ],
   "source": [
    "# Customer order function v3\n",
    "# Improvise: How do customers only input in the multiples of 100,50,20,10,5 and 1?\n",
    "# Example scenario: A drink is RM15. The guy has RM20 and RM5 RM5 RM5. How do we simulate this scenario so that he pays the highest amt first?\n",
    "\n",
    "def cust_Order(drink, notes_in_wallet):\n",
    "    total_cash = sum(notes_in_wallet)\n",
    "    \n",
    "    print(\"Customer's cash: RM\", total_cash)\n",
    "    \n",
    "    if drink in vending_machine:\n",
    "        price = vending_machine.get(drink)\n",
    "        print(\"Drink: \", drink, \"( RM\", price, \")\")\n",
    "        \n",
    "        if total_cash < price:\n",
    "            print(\"You don't have enough money :(\")\n",
    "        \n",
    "    else:\n",
    "        print(\"Drink is not in vending machine!\")\n",
    "    \n",
    "cust_Order(\"Fanta\", [5,5,5,10,50])\n"
   ]
  },
  {
   "cell_type": "markdown",
   "metadata": {},
   "source": [
    "### Requirement 4 - Functions work together -> Output. \n",
    "### Error handling - insuffficient cash + drink N/A"
   ]
  },
  {
   "cell_type": "code",
   "execution_count": 11,
   "metadata": {},
   "outputs": [
    {
     "data": {
      "text/html": [
       "<div>\n",
       "<style scoped>\n",
       "    .dataframe tbody tr th:only-of-type {\n",
       "        vertical-align: middle;\n",
       "    }\n",
       "\n",
       "    .dataframe tbody tr th {\n",
       "        vertical-align: top;\n",
       "    }\n",
       "\n",
       "    .dataframe thead th {\n",
       "        text-align: right;\n",
       "    }\n",
       "</style>\n",
       "<table border=\"1\" class=\"dataframe\">\n",
       "  <thead>\n",
       "    <tr style=\"text-align: right;\">\n",
       "      <th></th>\n",
       "      <th>User</th>\n",
       "      <th>Drink</th>\n",
       "      <th>Cash In Wallet</th>\n",
       "      <th>Price</th>\n",
       "      <th>Balance</th>\n",
       "      <th>Change</th>\n",
       "      <th>Error</th>\n",
       "    </tr>\n",
       "  </thead>\n",
       "  <tbody>\n",
       "    <tr>\n",
       "      <th>0</th>\n",
       "      <td>Faris</td>\n",
       "      <td>Fanta</td>\n",
       "      <td>75</td>\n",
       "      <td>5</td>\n",
       "      <td>70</td>\n",
       "      <td>[50, 20]</td>\n",
       "      <td>None</td>\n",
       "    </tr>\n",
       "    <tr>\n",
       "      <th>1</th>\n",
       "      <td>Azlan</td>\n",
       "      <td>Zus</td>\n",
       "      <td>100</td>\n",
       "      <td>17</td>\n",
       "      <td>83</td>\n",
       "      <td>[50, 20, 10, 1, 1, 1]</td>\n",
       "      <td>None</td>\n",
       "    </tr>\n",
       "    <tr>\n",
       "      <th>2</th>\n",
       "      <td>Hanis</td>\n",
       "      <td>Evian</td>\n",
       "      <td>40</td>\n",
       "      <td>32</td>\n",
       "      <td>8</td>\n",
       "      <td>[5, 1, 1, 1]</td>\n",
       "      <td>None</td>\n",
       "    </tr>\n",
       "    <tr>\n",
       "      <th>3</th>\n",
       "      <td>Fatin</td>\n",
       "      <td>Milo</td>\n",
       "      <td>100</td>\n",
       "      <td>0</td>\n",
       "      <td>0</td>\n",
       "      <td>[]</td>\n",
       "      <td>Drink not available!</td>\n",
       "    </tr>\n",
       "    <tr>\n",
       "      <th>4</th>\n",
       "      <td>Lisa</td>\n",
       "      <td>Starbucks</td>\n",
       "      <td>20</td>\n",
       "      <td>50</td>\n",
       "      <td>0</td>\n",
       "      <td>[]</td>\n",
       "      <td>You have insufficient funds!</td>\n",
       "    </tr>\n",
       "  </tbody>\n",
       "</table>\n",
       "</div>"
      ],
      "text/plain": [
       "    User      Drink  Cash In Wallet  Price  Balance                 Change  \\\n",
       "0  Faris      Fanta              75      5       70               [50, 20]   \n",
       "1  Azlan        Zus             100     17       83  [50, 20, 10, 1, 1, 1]   \n",
       "2  Hanis      Evian              40     32        8           [5, 1, 1, 1]   \n",
       "3  Fatin       Milo             100      0        0                     []   \n",
       "4   Lisa  Starbucks              20     50        0                     []   \n",
       "\n",
       "                          Error  \n",
       "0                          None  \n",
       "1                          None  \n",
       "2                          None  \n",
       "3          Drink not available!  \n",
       "4  You have insufficient funds!  "
      ]
     },
     "execution_count": 11,
     "metadata": {},
     "output_type": "execute_result"
    }
   ],
   "source": [
    "vending_machine = {\"Fanta\": 5, \"Zus\": 17, \"Evian\": 32, \"Starbucks\": 50}\n",
    "notes = [100, 50, 20, 10, 5, 1]\n",
    "\n",
    "def calc_change(price, amt_received):\n",
    "    list_of_change = []\n",
    "    balance = amt_received - price\n",
    "    \n",
    "    if balance < 0: \n",
    "        print(\"Insufficient Amount!\")\n",
    "        return 0, 0\n",
    "    \n",
    "    initial_balance = balance\n",
    "    for note in notes:\n",
    "        while balance >= note:\n",
    "            balance = balance- note\n",
    "            list_of_change.append(note)\n",
    "    return initial_balance, list_of_change\n",
    "\n",
    "def cust_Order(user, drink, notes_in_wallet):\n",
    "    total_cash = sum(notes_in_wallet)\n",
    "    # print(f\"{user}'s cash: RM\", total_cash)\n",
    "    \n",
    "    if drink in vending_machine:\n",
    "        price = vending_machine[drink]\n",
    "        # print(\"Drink: \", drink, \"( RM\", price, \")\")\n",
    "        \n",
    "        if total_cash < price:\n",
    "            # print(\"You don't have enough money :(\")\n",
    "            return user, drink, total_cash, price, 0, [] , \"You have insufficient funds!\"\n",
    "        else:\n",
    "            initial_balance, list_of_change = calc_change(price, total_cash)\n",
    "            # print(\"Total Balance = RM\", initial_balance)\n",
    "            # print(\"List of Change = \", list_of_change)\n",
    "            return user, drink, total_cash, price, initial_balance, list_of_change\n",
    "    else:\n",
    "        # print(\"Drink is not in vending machine!\")\n",
    "        return user, drink, total_cash, 0, 0, [], \"Drink not available!\"\n",
    "\n",
    "customers = [\n",
    "(\"Faris\", \"Fanta\", [5,5,5,10,50]),\n",
    "    (\"Azlan\", \"Zus\", [10,10,10,20,50]),\n",
    "    (\"Hanis\", \"Evian\", [20,20]),\n",
    "    (\"Fatin\", \"Milo\", [50,50]),\n",
    "    (\"Lisa\", \"Starbucks\", [5,5,10])\n",
    "]\n",
    "\n",
    "records = []\n",
    "for user, drink, wallet in customers:\n",
    "    record = cust_Order(user, drink, wallet)\n",
    "    records.append(record)\n",
    "\n",
    "\n",
    "cols = [\"User\", \"Drink\", \"Cash In Wallet\", \"Price\", \"Balance\", \"Change\", \"Error\"]\n",
    "vending_machine_records = pd.DataFrame(records, columns=cols)\n",
    "\n",
    "vending_machine_records\n"
   ]
  }
 ],
 "metadata": {
  "kernelspec": {
   "display_name": "Python 3",
   "language": "python",
   "name": "python3"
  },
  "language_info": {
   "codemirror_mode": {
    "name": "ipython",
    "version": 3
   },
   "file_extension": ".py",
   "mimetype": "text/x-python",
   "name": "python",
   "nbconvert_exporter": "python",
   "pygments_lexer": "ipython3",
   "version": "3.11.8"
  }
 },
 "nbformat": 4,
 "nbformat_minor": 2
}
